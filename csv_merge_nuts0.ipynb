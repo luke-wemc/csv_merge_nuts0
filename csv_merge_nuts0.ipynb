{
 "cells": [
  {
   "cell_type": "code",
   "execution_count": 2,
   "metadata": {},
   "outputs": [],
   "source": [
    "# load packages\n",
    "import pandas as pd\n",
    "import glob, os"
   ]
  },
  {
   "cell_type": "code",
   "execution_count": 118,
   "metadata": {},
   "outputs": [],
   "source": [
    "# select directory\n",
    "path = r'/Users/user/Documents/ERA5/msl/msl_country_averages'\n",
    "\n",
    "# create list of available years\n",
    "years = ['S2000','S2001','S2002','S2003','S2004','S2005','S2006','S2007','S2008',\n",
    "         'S2009','S2010','S2011','S2012','S2013','S2014','S2015','S2016',\n",
    "         'S2017']\n",
    "\n",
    "# set first year in list\n",
    "year = years[0]\n",
    "\n",
    "# empty list for populating with csv data\n",
    "list_ = []\n",
    "\n",
    "# empty list for filenameing purposes\n",
    "namelong = []\n",
    "\n",
    "# specify nuts level for filenaming purposes\n",
    "nuts = 'nuts0'\n",
    "\n",
    "# check for previous merged file and delete if present\n",
    "for filename in glob.glob(path + \"/nuts*\"):\n",
    "    os.remove(filename) \n",
    "    \n",
    "# find all .csv files and add to list    \n",
    "allFiles = [os.path.basename(x) for x in glob.glob(path + r\"/*.csv\")]"
   ]
  },
  {
   "cell_type": "code",
   "execution_count": 143,
   "metadata": {},
   "outputs": [],
   "source": [
    "# loop to populate lists and add country abbreviations as column headers\n",
    "for year in years:\n",
    "    for file_ in allFiles:\n",
    "        name = os.path.splitext(file_)[0]\n",
    "        if year in name:\n",
    "            namelong.append(name)\n",
    "            name = name[:2]\n",
    "            df = pd.read_csv(file_, index_col=0, header=None)\n",
    "            df.rename(columns={1: name}, inplace=True)\n",
    "            list_.append(df)"
   ]
  },
  {
   "cell_type": "code",
   "execution_count": 162,
   "metadata": {},
   "outputs": [],
   "source": [
    "# concatentate list to pandas dataframe\n",
    "frame = pd.concat(list_, axis = 1, sort=True)"
   ]
  },
  {
   "cell_type": "code",
   "execution_count": 201,
   "metadata": {},
   "outputs": [],
   "source": [
    "# group by column names and choose first value (ignores NaN)\n",
    "frame = frame.groupby(axis=1, level=0).first()"
   ]
  },
  {
   "cell_type": "code",
   "execution_count": null,
   "metadata": {},
   "outputs": [],
   "source": [
    "# create filename from input file\n",
    "filename = namelong[0]"
   ]
  },
  {
   "cell_type": "code",
   "execution_count": 162,
   "metadata": {},
   "outputs": [],
   "source": [
    "# append nuts level to filename, remove country abbreviation and add csv extension\n",
    "csvname = nuts + '_' + filename[3:] + '.csv'"
   ]
  },
  {
   "cell_type": "code",
   "execution_count": 163,
   "metadata": {},
   "outputs": [],
   "source": [
    "# save dataframe as csv\n",
    "frame.to_csv(csvname)"
   ]
  }
 ],
 "metadata": {
  "kernelspec": {
   "display_name": "Python (wemc2)",
   "language": "python",
   "name": "wemc2"
  },
  "language_info": {
   "codemirror_mode": {
    "name": "ipython",
    "version": 3
   },
   "file_extension": ".py",
   "mimetype": "text/x-python",
   "name": "python",
   "nbconvert_exporter": "python",
   "pygments_lexer": "ipython3",
   "version": "3.6.6"
  }
 },
 "nbformat": 4,
 "nbformat_minor": 2
}
